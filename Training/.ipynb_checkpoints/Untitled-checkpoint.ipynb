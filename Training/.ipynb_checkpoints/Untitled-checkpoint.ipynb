{
 "cells": [
  {
   "cell_type": "code",
   "execution_count": null,
   "metadata": {},
   "outputs": [],
   "source": [
    "import tensorflow as tf\n",
    "import random\n",
    "import numpy\n",
    "import cv2\n",
    "import os"
   ]
  },
  {
   "cell_type": "code",
   "execution_count": null,
   "metadata": {},
   "outputs": [],
   "source": [
    "dataset=list()\n",
    "paths=\"C:\\\\Users\\\\KIIT\\\\Desktop\\\\Smart Attendance\\\\Dataset\""
   ]
  },
  {
   "cell_type": "code",
   "execution_count": null,
   "metadata": {},
   "outputs": [],
   "source": [
    "def prepare_input(path,lab):\n",
    "    for filename in os.listdir(path):\n",
    "        img=cv2.imread(os.path.join(path,filename))\n",
    "        img=cv2.resize(img,(100,100))\n",
    "        dataset.append([img,lab])"
   ]
  },
  {
   "cell_type": "code",
   "execution_count": null,
   "metadata": {},
   "outputs": [],
   "source": [
    "#train for anynumber of students\n",
    "#i have used 4\n",
    "prepare_input(paths+\"\\\\0\",0)\n",
    "prepare_input(paths+\"\\\\1\",1)\n",
    "prepare_input(paths+\"\\\\2\",2)\n",
    "prepare_input(paths+\"\\\\3\",3)\n",
    "prepare_input(paths+\"\\\\4\",4)"
   ]
  },
  {
   "cell_type": "code",
   "execution_count": null,
   "metadata": {},
   "outputs": [],
   "source": [
    "print(len(dataset))"
   ]
  },
  {
   "cell_type": "code",
   "execution_count": null,
   "metadata": {},
   "outputs": [],
   "source": [
    "random.shuffle(dataset)\n",
    "for samples in dataset[:10]:\n",
    "    print(samples[1])\n"
   ]
  },
  {
   "cell_type": "code",
   "execution_count": null,
   "metadata": {},
   "outputs": [],
   "source": [
    "img=[]\n",
    "lab=[]\n",
    "for a,b in dataset:\n",
    "    img.append(a)\n",
    "    lab.append(b)\n",
    "\n",
    "#we need to for a test train split\n",
    "from sklearn.model_selection import train_test_split\n",
    "x,x_valid,y,y_vaid=train_test_split(img,lab,test_size=0.25)"
   ]
  },
  {
   "cell_type": "code",
   "execution_count": null,
   "metadata": {},
   "outputs": [],
   "source": [
    "import numpy as np\n",
    "x=np.array(x).reshape(-1,100,100,3)\n",
    "x_valid=np.array(x_valid).reshape(-1,100,100,3)\n",
    "x=x.astype('float32')/255\n",
    "x_valid=x_valid.astype('float32')/255"
   ]
  },
  {
   "cell_type": "code",
   "execution_count": null,
   "metadata": {},
   "outputs": [],
   "source": [
    "import tensorflow as tf\n",
    "from tensorflow.keras.callbacks import TensorBoard\n",
    "NAME=\"Attendance\"\n",
    "tensorboard=TensorBoard(log_dir='logs/{}'.format(NAME))"
   ]
  },
  {
   "cell_type": "code",
   "execution_count": null,
   "metadata": {},
   "outputs": [],
   "source": [
    "from keras import backend as K\n",
    "import tensorflow as tf\n",
    "from tensorflow.keras.models import Sequential\n",
    "from tensorflow.keras.layers import Dense, TimeDistributed,Dropout, Activation, Flatten,Conv2D, MaxPooling2D,LSTM,Bidirectional\n",
    "from tensorflow.keras.optimizers import Adam, SGD\n",
    "from tensorflow.keras.callbacks import TensorBoard\n",
    "import numpy as np\n",
    "# create model\n",
    "## training the CNN\n",
    "cnn = Sequential()\n",
    "#input\n",
    "cnn.add(Conv2D(64, (3, 3), activation='relu', padding='same',input_shape=x.shape[1:]))\n",
    "#1st layer\n",
    "cnn.add(Conv2D(64, (3, 3), activation='relu'))\n",
    "cnn.add(MaxPooling2D((2, 2)))\n",
    "cnn.add(Conv2D(128, (3, 3), activation='relu'))\n",
    "cnn.add(MaxPooling2D((2, 2)))\n",
    "cnn.add(Conv2D(64, (3, 3), activation='relu'))\n",
    "cnn.add(MaxPooling2D((2, 2)))\n",
    "#converting to 1-d tensor\n",
    "cnn.add(Flatten())\n",
    "\n",
    "cnn.add(Dense(64,activation='relu'))\n",
    "cnn.add(Dense(32,activation='relu'))\n",
    "#model.add(Flatten())\n",
    "cnn.add(Dense(5,activation='softmax'))\n",
    "# Compile model\n",
    "cnn.compile(loss='sparse_categorical_crossentropy',optimizer='Adam',metrics=['accuracy'])\n",
    "# Fit the model\n",
    "cnn.fit(x,y,epochs=25,validation_data=(x_valid,y_valid),batch_size=20,callbacks=[tensorboard])\n",
    "cnn.save(\"prediction.h5\")"
   ]
  },
  {
   "cell_type": "code",
   "execution_count": null,
   "metadata": {},
   "outputs": [],
   "source": []
  },
  {
   "cell_type": "code",
   "execution_count": null,
   "metadata": {},
   "outputs": [],
   "source": [
    "'''\n",
    "#if you need to demo test the model\n",
    "import tensorflow as tf\n",
    "import numpy as np\n",
    "import cv2\n",
    "model=tf.keras.models.load_model(\"prediction.h5\")\n",
    "img=cv2.imread(\"C:\\\\Users\\\\KIIT\\\\Desktop\\\\Smart Attendance\\\\Dataset\\\\3\\\\xyz.jpg\")\n",
    "img=cv2.resize(img,(100,100))\n",
    "test=np.array([img]).reshape(-1,100,100,3)\n",
    "test=test.astype('float32')/255\n",
    "x=model.predict(test)\n",
    "print(x)\n",
    "'''"
   ]
  },
  {
   "cell_type": "code",
   "execution_count": null,
   "metadata": {},
   "outputs": [],
   "source": []
  }
 ],
 "metadata": {
  "kernelspec": {
   "display_name": "Python 3",
   "language": "python",
   "name": "python3"
  },
  "language_info": {
   "codemirror_mode": {
    "name": "ipython",
    "version": 3
   },
   "file_extension": ".py",
   "mimetype": "text/x-python",
   "name": "python",
   "nbconvert_exporter": "python",
   "pygments_lexer": "ipython3",
   "version": "3.7.3"
  }
 },
 "nbformat": 4,
 "nbformat_minor": 2
}
